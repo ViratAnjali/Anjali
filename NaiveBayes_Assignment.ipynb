{
 "cells": [
  {
   "cell_type": "code",
   "execution_count": 6,
   "id": "a5f9d208",
   "metadata": {},
   "outputs": [],
   "source": [
    "#Importing libraries.\n",
    "import numpy as np\n",
    "import pandas as pd\n",
    "import matplotlib.pyplot as plt"
   ]
  },
  {
   "cell_type": "code",
   "execution_count": 7,
   "id": "cf6bb3dc",
   "metadata": {},
   "outputs": [],
   "source": [
    "# Reading datasets.\n",
    "salary_train=pd.read_csv('C:/Users/Anjali/Downloads/SalaryData_Train.csv') \n",
    "salary_test=pd.read_csv('C:/Users/Anjali/Downloads/SalaryData_Test.csv')"
   ]
  },
  {
   "cell_type": "code",
   "execution_count": 8,
   "id": "34c76dca",
   "metadata": {},
   "outputs": [
    {
     "data": {
      "text/plain": [
       "Index(['age', 'workclass', 'education', 'educationno', 'maritalstatus',\n",
       "       'occupation', 'relationship', 'race', 'sex', 'capitalgain',\n",
       "       'capitalloss', 'hoursperweek', 'native', 'Salary'],\n",
       "      dtype='object')"
      ]
     },
     "execution_count": 8,
     "metadata": {},
     "output_type": "execute_result"
    }
   ],
   "source": [
    "salary_train.columns\n",
    "salary_test.columns"
   ]
  },
  {
   "cell_type": "code",
   "execution_count": 9,
   "id": "28d57f9b",
   "metadata": {},
   "outputs": [
    {
     "data": {
      "text/plain": [
       "(30161, 14)"
      ]
     },
     "execution_count": 9,
     "metadata": {},
     "output_type": "execute_result"
    }
   ],
   "source": [
    "salary_train.shape # defines structure"
   ]
  },
  {
   "cell_type": "code",
   "execution_count": 10,
   "id": "de23be1e",
   "metadata": {},
   "outputs": [
    {
     "data": {
      "text/plain": [
       "(15060, 14)"
      ]
     },
     "execution_count": 10,
     "metadata": {},
     "output_type": "execute_result"
    }
   ],
   "source": [
    "salary_test.shape"
   ]
  },
  {
   "cell_type": "code",
   "execution_count": 11,
   "id": "16191767",
   "metadata": {},
   "outputs": [
    {
     "name": "stdout",
     "output_type": "stream",
     "text": [
      "<class 'pandas.core.frame.DataFrame'>\n",
      "RangeIndex: 30161 entries, 0 to 30160\n",
      "Data columns (total 14 columns):\n",
      " #   Column         Non-Null Count  Dtype \n",
      "---  ------         --------------  ----- \n",
      " 0   age            30161 non-null  int64 \n",
      " 1   workclass      30161 non-null  object\n",
      " 2   education      30161 non-null  object\n",
      " 3   educationno    30161 non-null  int64 \n",
      " 4   maritalstatus  30161 non-null  object\n",
      " 5   occupation     30161 non-null  object\n",
      " 6   relationship   30161 non-null  object\n",
      " 7   race           30161 non-null  object\n",
      " 8   sex            30161 non-null  object\n",
      " 9   capitalgain    30161 non-null  int64 \n",
      " 10  capitalloss    30161 non-null  int64 \n",
      " 11  hoursperweek   30161 non-null  int64 \n",
      " 12  native         30161 non-null  object\n",
      " 13  Salary         30161 non-null  object\n",
      "dtypes: int64(5), object(9)\n",
      "memory usage: 3.2+ MB\n"
     ]
    }
   ],
   "source": [
    "salary_train.info() #defines summary"
   ]
  },
  {
   "cell_type": "code",
   "execution_count": 12,
   "id": "b91c69c4",
   "metadata": {},
   "outputs": [
    {
     "name": "stdout",
     "output_type": "stream",
     "text": [
      "<class 'pandas.core.frame.DataFrame'>\n",
      "RangeIndex: 15060 entries, 0 to 15059\n",
      "Data columns (total 14 columns):\n",
      " #   Column         Non-Null Count  Dtype \n",
      "---  ------         --------------  ----- \n",
      " 0   age            15060 non-null  int64 \n",
      " 1   workclass      15060 non-null  object\n",
      " 2   education      15060 non-null  object\n",
      " 3   educationno    15060 non-null  int64 \n",
      " 4   maritalstatus  15060 non-null  object\n",
      " 5   occupation     15060 non-null  object\n",
      " 6   relationship   15060 non-null  object\n",
      " 7   race           15060 non-null  object\n",
      " 8   sex            15060 non-null  object\n",
      " 9   capitalgain    15060 non-null  int64 \n",
      " 10  capitalloss    15060 non-null  int64 \n",
      " 11  hoursperweek   15060 non-null  int64 \n",
      " 12  native         15060 non-null  object\n",
      " 13  Salary         15060 non-null  object\n",
      "dtypes: int64(5), object(9)\n",
      "memory usage: 1.6+ MB\n"
     ]
    }
   ],
   "source": [
    "salary_test.info()"
   ]
  },
  {
   "cell_type": "code",
   "execution_count": 13,
   "id": "55e32add",
   "metadata": {},
   "outputs": [],
   "source": [
    "string_columns=['workclass','education','maritalstatus','occupation','relationship','race','sex','native']"
   ]
  },
  {
   "cell_type": "code",
   "execution_count": 14,
   "id": "232d6401",
   "metadata": {},
   "outputs": [],
   "source": [
    "from sklearn import preprocessing\n",
    "label_encoder=preprocessing.LabelEncoder()\n",
    "for i in string_columns:\n",
    "    salary_train[i]=label_encoder.fit_transform(salary_train[i])\n",
    "    salary_test[i]=label_encoder.fit_transform(salary_test[i])\n"
   ]
  },
  {
   "cell_type": "code",
   "execution_count": 15,
   "id": "ef41e4a7",
   "metadata": {},
   "outputs": [],
   "source": [
    "col_names=list(salary_train.columns)\n",
    "train_X=salary_train[col_names[0:13]]\n",
    "train_Y=salary_train[col_names[13]]\n",
    "test_x=salary_test[col_names[0:13]]\n",
    "test_y=salary_test[col_names[13]]"
   ]
  },
  {
   "cell_type": "code",
   "execution_count": 16,
   "id": "24279a7e",
   "metadata": {},
   "outputs": [
    {
     "data": {
      "text/plain": [
       "0.7946879150066402"
      ]
     },
     "execution_count": 16,
     "metadata": {},
     "output_type": "execute_result"
    }
   ],
   "source": [
    "#Gaussian Naive Bayes\n",
    "\n",
    "from sklearn.naive_bayes import GaussianNB\n",
    "Gmodel=GaussianNB()\n",
    "train_pred_gau=Gmodel.fit(train_X,train_Y).predict(train_X)\n",
    "test_pred_gau=Gmodel.fit(train_X,train_Y).predict(test_x)\n",
    "\n",
    "train_acc_gau=np.mean(train_pred_gau==train_Y)\n",
    "test_acc_gau=np.mean(test_pred_gau==test_y)\n",
    "train_acc_gau#0.795\n",
    "test_acc_gau#0.794"
   ]
  },
  {
   "cell_type": "code",
   "execution_count": 17,
   "id": "df4d67a8",
   "metadata": {},
   "outputs": [
    {
     "data": {
      "text/plain": [
       "0.7749667994687915"
      ]
     },
     "execution_count": 17,
     "metadata": {},
     "output_type": "execute_result"
    }
   ],
   "source": [
    "#Multinomial Naive Bayes\n",
    "\n",
    "from sklearn.naive_bayes import MultinomialNB\n",
    "Mmodel=MultinomialNB()\n",
    "train_pred_multi=Mmodel.fit(train_X,train_Y).predict(train_X)\n",
    "test_pred_multi=Mmodel.fit(train_X,train_Y).predict(test_x)\n",
    "\n",
    "train_acc_multi=np.mean(train_pred_multi==train_Y)\n",
    "test_acc_multi=np.mean(test_pred_multi==test_y)\n",
    "train_acc_multi#0.772\n",
    "test_acc_multi#0.774"
   ]
  },
  {
   "cell_type": "code",
   "execution_count": null,
   "id": "7156d63b",
   "metadata": {},
   "outputs": [],
   "source": []
  }
 ],
 "metadata": {
  "kernelspec": {
   "display_name": "Python 3 (ipykernel)",
   "language": "python",
   "name": "python3"
  },
  "language_info": {
   "codemirror_mode": {
    "name": "ipython",
    "version": 3
   },
   "file_extension": ".py",
   "mimetype": "text/x-python",
   "name": "python",
   "nbconvert_exporter": "python",
   "pygments_lexer": "ipython3",
   "version": "3.9.7"
  }
 },
 "nbformat": 4,
 "nbformat_minor": 5
}
