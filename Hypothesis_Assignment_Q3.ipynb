{
 "cells": [
  {
   "cell_type": "code",
   "execution_count": 1,
   "id": "2f266030",
   "metadata": {},
   "outputs": [],
   "source": [
    "import pandas as pd\n",
    "import seaborn as sns\n",
    "import numpy as np\n",
    "from scipy import stats\n",
    "from scipy.stats import norm"
   ]
  },
  {
   "cell_type": "code",
   "execution_count": 2,
   "id": "6150b38f",
   "metadata": {},
   "outputs": [],
   "source": [
    "male=pd.Series([50,142,131,70])\n",
    "female=pd.Series([550,351,480,350])"
   ]
  },
  {
   "cell_type": "code",
   "execution_count": 3,
   "id": "4b8b4349",
   "metadata": {},
   "outputs": [],
   "source": [
    "p_value=stats.ttest_ind(male,female)"
   ]
  },
  {
   "cell_type": "code",
   "execution_count": 4,
   "id": "f35c1c38",
   "metadata": {},
   "outputs": [
    {
     "data": {
      "text/plain": [
       "Ttest_indResult(statistic=-6.139294288037571, pvalue=0.0008548166684701879)"
      ]
     },
     "execution_count": 4,
     "metadata": {},
     "output_type": "execute_result"
    }
   ],
   "source": [
    "p_value    #checking of P_value<alpha(0.05)"
   ]
  },
  {
   "cell_type": "code",
   "execution_count": null,
   "id": "d9881743",
   "metadata": {},
   "outputs": [],
   "source": []
  }
 ],
 "metadata": {
  "kernelspec": {
   "display_name": "Python 3 (ipykernel)",
   "language": "python",
   "name": "python3"
  },
  "language_info": {
   "codemirror_mode": {
    "name": "ipython",
    "version": 3
   },
   "file_extension": ".py",
   "mimetype": "text/x-python",
   "name": "python",
   "nbconvert_exporter": "python",
   "pygments_lexer": "ipython3",
   "version": "3.9.7"
  }
 },
 "nbformat": 4,
 "nbformat_minor": 5
}
