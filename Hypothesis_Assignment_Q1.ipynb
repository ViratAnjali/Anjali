{
 "cells": [
  {
   "cell_type": "code",
   "execution_count": 14,
   "id": "91739b4a",
   "metadata": {},
   "outputs": [],
   "source": [
    "import pandas as pd\n",
    "import numpy as np\n",
    "import matplotlib.pyplot as plt\n",
    "import seaborn as sns\n",
    "from statsmodels.graphics.regressionplots import influence_plot\n",
    "import statsmodels.formula.api as smf\n",
    "from scipy import stats\n",
    "from scipy.stats import norm"
   ]
  },
  {
   "cell_type": "code",
   "execution_count": 15,
   "id": "dfd6460c",
   "metadata": {},
   "outputs": [],
   "source": [
    "UnitA = pd.Series([6.8090,6.4376,6.9157,7.3012,7.4488,7.3871,6.8755,7.0621,6.6840,6.8236,7.3930,7.5169,6.9246,6.9256,6.5797,6.8394,6.5970,7.2705,7.2828,7.3495,6.9438,7.1560,6.5341,7.2874,6.9952,6.8568,7.2163,6.6801,6.9431,7.0852,6.7794,7.2783,7.1561,7.3943,6.9405])\n",
    "UnitB = pd.Series([6.7703,7.5093,6.7300,6.7878,7.1522,6.8110,7.2212,6.6606,7.2402,7.0503,6.8810,7.4059,6.7652,6.0380,7.1581,7.0240,6.6672,7.4314,7.3070,6.7478,6.8889,7.4220,6.5217,7.1688,6.7594,6.9399,7.0133,6.9182,6.3346,7.5459,7.0992,7.1180,6.6965,6.5780,7.3875])"
   ]
  },
  {
   "cell_type": "code",
   "execution_count": 16,
   "id": "ea24de6c",
   "metadata": {},
   "outputs": [
    {
     "data": {
      "text/plain": [
       "Ttest_indResult(statistic=0.7235661561682242, pvalue=0.47181392554133683)"
      ]
     },
     "execution_count": 16,
     "metadata": {},
     "output_type": "execute_result"
    }
   ],
   "source": [
    "#this is two tail test\n",
    "stats.ttest_ind(UnitA,UnitB)"
   ]
  },
  {
   "cell_type": "code",
   "execution_count": null,
   "id": "20b175a1",
   "metadata": {},
   "outputs": [],
   "source": []
  }
 ],
 "metadata": {
  "kernelspec": {
   "display_name": "Python 3 (ipykernel)",
   "language": "python",
   "name": "python3"
  },
  "language_info": {
   "codemirror_mode": {
    "name": "ipython",
    "version": 3
   },
   "file_extension": ".py",
   "mimetype": "text/x-python",
   "name": "python",
   "nbconvert_exporter": "python",
   "pygments_lexer": "ipython3",
   "version": "3.9.7"
  }
 },
 "nbformat": 4,
 "nbformat_minor": 5
}
